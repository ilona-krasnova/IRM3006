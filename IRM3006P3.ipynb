{
  "nbformat": 4,
  "nbformat_minor": 0,
  "metadata": {
    "colab": {
      "provenance": [],
      "authorship_tag": "ABX9TyMphU4u/V+y+AdIpSc6urx2",
      "include_colab_link": true
    },
    "kernelspec": {
      "name": "python3",
      "display_name": "Python 3"
    },
    "language_info": {
      "name": "python"
    }
  },
  "cells": [
    {
      "cell_type": "markdown",
      "metadata": {
        "id": "view-in-github",
        "colab_type": "text"
      },
      "source": [
        "<a href=\"https://colab.research.google.com/github/ilona-krasnova/IRM3006/blob/main/IRM3006P3.ipynb\" target=\"_parent\"><img src=\"https://colab.research.google.com/assets/colab-badge.svg\" alt=\"Open In Colab\"/></a>"
      ]
    },
    {
      "cell_type": "code",
      "source": [
        "# importing libraries in Python\n",
        "import pandas as pd\n",
        "import numpy as np\n",
        "import re\n",
        "import json\n",
        "\n",
        "# install playwright\n",
        "!pip install -q playwright\n",
        "!playwright install\n",
        "\n",
        "import asyncio\n",
        "from playwright.async_api import async_playwright\n",
        "from bs4 import BeautifulSoup"
      ],
      "metadata": {
        "id": "V6T7c60IYnJf",
        "colab": {
          "base_uri": "https://localhost:8080/"
        },
        "outputId": "20b8f018-6372-46bd-9175-20cd7e03781d"
      },
      "execution_count": null,
      "outputs": [
        {
          "output_type": "stream",
          "name": "stdout",
          "text": [
            "\u001b[2K   \u001b[90m━━━━━━━━━━━━━━━━━━━━━━━━━━━━━━━━━━━━━━━━\u001b[0m \u001b[32m38.2/38.2 MB\u001b[0m \u001b[31m27.0 MB/s\u001b[0m eta \u001b[36m0:00:00\u001b[0m\n",
            "\u001b[?25hDownloading Chromium 130.0.6723.31 (playwright build v1140)\u001b[2m from https://playwright.azureedge.net/builds/chromium/1140/chromium-linux.zip\u001b[22m\n",
            "\u001b[1G164.5 MiB [] 0% 0.0s\u001b[0K\u001b[1G164.5 MiB [] 0% 36.0s\u001b[0K\u001b[1G164.5 MiB [] 0% 29.0s\u001b[0K\u001b[1G164.5 MiB [] 0% 37.2s\u001b[0K\u001b[1G164.5 MiB [] 0% 35.5s\u001b[0K\u001b[1G164.5 MiB [] 0% 23.7s\u001b[0K\u001b[1G164.5 MiB [] 0% 20.4s\u001b[0K\u001b[1G164.5 MiB [] 0% 18.0s\u001b[0K\u001b[1G164.5 MiB [] 0% 17.1s\u001b[0K\u001b[1G164.5 MiB [] 0% 16.2s\u001b[0K\u001b[1G164.5 MiB [] 1% 15.2s\u001b[0K\u001b[1G164.5 MiB [] 1% 14.7s\u001b[0K\u001b[1G164.5 MiB [] 1% 14.4s\u001b[0K\u001b[1G164.5 MiB [] 1% 14.2s\u001b[0K\u001b[1G164.5 MiB [] 1% 13.6s\u001b[0K\u001b[1G164.5 MiB [] 1% 13.3s\u001b[0K\u001b[1G164.5 MiB [] 2% 13.1s\u001b[0K\u001b[1G164.5 MiB [] 2% 13.0s\u001b[0K\u001b[1G164.5 MiB [] 2% 12.6s\u001b[0K\u001b[1G164.5 MiB [] 2% 12.5s\u001b[0K\u001b[1G164.5 MiB [] 2% 12.3s\u001b[0K\u001b[1G164.5 MiB [] 2% 12.2s\u001b[0K\u001b[1G164.5 MiB [] 3% 12.0s\u001b[0K\u001b[1G164.5 MiB [] 3% 11.9s\u001b[0K\u001b[1G164.5 MiB [] 3% 11.7s\u001b[0K\u001b[1G164.5 MiB [] 3% 11.6s\u001b[0K\u001b[1G164.5 MiB [] 3% 11.4s\u001b[0K\u001b[1G164.5 MiB [] 3% 11.5s\u001b[0K\u001b[1G164.5 MiB [] 4% 11.3s\u001b[0K\u001b[1G164.5 MiB [] 4% 11.6s\u001b[0K\u001b[1G164.5 MiB [] 4% 11.5s\u001b[0K\u001b[1G164.5 MiB [] 4% 11.3s\u001b[0K\u001b[1G164.5 MiB [] 4% 11.1s\u001b[0K\u001b[1G164.5 MiB [] 4% 11.0s\u001b[0K\u001b[1G164.5 MiB [] 5% 10.9s\u001b[0K\u001b[1G164.5 MiB [] 5% 10.8s\u001b[0K\u001b[1G164.5 MiB [] 5% 10.7s\u001b[0K\u001b[1G164.5 MiB [] 5% 10.6s\u001b[0K\u001b[1G164.5 MiB [] 6% 10.5s\u001b[0K\u001b[1G164.5 MiB [] 6% 10.4s\u001b[0K\u001b[1G164.5 MiB [] 6% 10.3s\u001b[0K\u001b[1G164.5 MiB [] 6% 10.2s\u001b[0K\u001b[1G164.5 MiB [] 7% 10.1s\u001b[0K\u001b[1G164.5 MiB [] 7% 10.0s\u001b[0K\u001b[1G164.5 MiB [] 7% 9.9s\u001b[0K\u001b[1G164.5 MiB [] 7% 9.8s\u001b[0K\u001b[1G164.5 MiB [] 8% 9.7s\u001b[0K\u001b[1G164.5 MiB [] 8% 9.8s\u001b[0K\u001b[1G164.5 MiB [] 8% 9.7s\u001b[0K\u001b[1G164.5 MiB [] 9% 9.6s\u001b[0K\u001b[1G164.5 MiB [] 9% 9.5s\u001b[0K\u001b[1G164.5 MiB [] 9% 9.4s\u001b[0K\u001b[1G164.5 MiB [] 9% 9.3s\u001b[0K\u001b[1G164.5 MiB [] 10% 9.3s\u001b[0K\u001b[1G164.5 MiB [] 10% 9.2s\u001b[0K\u001b[1G164.5 MiB [] 10% 9.1s\u001b[0K\u001b[1G164.5 MiB [] 11% 9.1s\u001b[0K\u001b[1G164.5 MiB [] 11% 9.0s\u001b[0K\u001b[1G164.5 MiB [] 11% 8.9s\u001b[0K\u001b[1G164.5 MiB [] 12% 8.9s\u001b[0K\u001b[1G164.5 MiB [] 12% 8.8s\u001b[0K\u001b[1G164.5 MiB [] 13% 8.8s\u001b[0K\u001b[1G164.5 MiB [] 13% 8.7s\u001b[0K\u001b[1G164.5 MiB [] 13% 8.6s\u001b[0K\u001b[1G164.5 MiB [] 14% 8.6s\u001b[0K\u001b[1G164.5 MiB [] 14% 8.5s\u001b[0K\u001b[1G164.5 MiB [] 14% 8.4s\u001b[0K\u001b[1G164.5 MiB [] 15% 8.4s\u001b[0K\u001b[1G164.5 MiB [] 15% 8.3s\u001b[0K\u001b[1G164.5 MiB [] 15% 8.4s\u001b[0K\u001b[1G164.5 MiB [] 16% 8.3s\u001b[0K\u001b[1G164.5 MiB [] 16% 8.2s\u001b[0K\u001b[1G164.5 MiB [] 16% 8.1s\u001b[0K\u001b[1G164.5 MiB [] 17% 8.1s\u001b[0K\u001b[1G164.5 MiB [] 17% 8.0s\u001b[0K\u001b[1G164.5 MiB [] 17% 7.9s\u001b[0K\u001b[1G164.5 MiB [] 18% 7.8s\u001b[0K\u001b[1G164.5 MiB [] 18% 7.7s\u001b[0K\u001b[1G164.5 MiB [] 19% 7.7s\u001b[0K\u001b[1G164.5 MiB [] 19% 7.6s\u001b[0K\u001b[1G164.5 MiB [] 19% 7.5s\u001b[0K\u001b[1G164.5 MiB [] 20% 7.5s\u001b[0K\u001b[1G164.5 MiB [] 20% 7.4s\u001b[0K\u001b[1G164.5 MiB [] 20% 7.3s\u001b[0K\u001b[1G164.5 MiB [] 21% 7.3s\u001b[0K\u001b[1G164.5 MiB [] 21% 7.2s\u001b[0K\u001b[1G164.5 MiB [] 21% 7.1s\u001b[0K\u001b[1G164.5 MiB [] 22% 7.1s\u001b[0K\u001b[1G164.5 MiB [] 22% 7.0s\u001b[0K\u001b[1G164.5 MiB [] 22% 6.9s\u001b[0K\u001b[1G164.5 MiB [] 23% 6.9s\u001b[0K\u001b[1G164.5 MiB [] 23% 6.8s\u001b[0K\u001b[1G164.5 MiB [] 24% 6.8s\u001b[0K\u001b[1G164.5 MiB [] 24% 6.7s\u001b[0K\u001b[1G164.5 MiB [] 24% 6.6s\u001b[0K\u001b[1G164.5 MiB [] 25% 6.6s\u001b[0K\u001b[1G164.5 MiB [] 25% 6.5s\u001b[0K\u001b[1G164.5 MiB [] 26% 6.4s\u001b[0K\u001b[1G164.5 MiB [] 27% 6.3s\u001b[0K\u001b[1G164.5 MiB [] 27% 6.2s\u001b[0K\u001b[1G164.5 MiB [] 28% 6.1s\u001b[0K\u001b[1G164.5 MiB [] 28% 6.0s\u001b[0K\u001b[1G164.5 MiB [] 29% 6.0s\u001b[0K\u001b[1G164.5 MiB [] 29% 5.9s\u001b[0K\u001b[1G164.5 MiB [] 30% 5.9s\u001b[0K\u001b[1G164.5 MiB [] 30% 5.8s\u001b[0K\u001b[1G164.5 MiB [] 31% 5.7s\u001b[0K\u001b[1G164.5 MiB [] 31% 5.6s\u001b[0K\u001b[1G164.5 MiB [] 32% 5.6s\u001b[0K\u001b[1G164.5 MiB [] 32% 5.5s\u001b[0K\u001b[1G164.5 MiB [] 33% 5.5s\u001b[0K\u001b[1G164.5 MiB [] 33% 5.4s\u001b[0K\u001b[1G164.5 MiB [] 34% 5.4s\u001b[0K\u001b[1G164.5 MiB [] 34% 5.3s\u001b[0K\u001b[1G164.5 MiB [] 35% 5.2s\u001b[0K\u001b[1G164.5 MiB [] 35% 5.1s\u001b[0K\u001b[1G164.5 MiB [] 36% 5.1s\u001b[0K\u001b[1G164.5 MiB [] 36% 5.0s\u001b[0K\u001b[1G164.5 MiB [] 37% 5.0s\u001b[0K\u001b[1G164.5 MiB [] 37% 4.9s\u001b[0K\u001b[1G164.5 MiB [] 38% 4.9s\u001b[0K\u001b[1G164.5 MiB [] 38% 4.8s\u001b[0K\u001b[1G164.5 MiB [] 39% 4.8s\u001b[0K\u001b[1G164.5 MiB [] 39% 4.7s\u001b[0K\u001b[1G164.5 MiB [] 40% 4.7s\u001b[0K\u001b[1G164.5 MiB [] 40% 4.6s\u001b[0K\u001b[1G164.5 MiB [] 41% 4.6s\u001b[0K\u001b[1G164.5 MiB [] 41% 4.5s\u001b[0K\u001b[1G164.5 MiB [] 42% 4.5s\u001b[0K\u001b[1G164.5 MiB [] 42% 4.4s\u001b[0K\u001b[1G164.5 MiB [] 43% 4.4s\u001b[0K\u001b[1G164.5 MiB [] 43% 4.3s\u001b[0K\u001b[1G164.5 MiB [] 44% 4.3s\u001b[0K\u001b[1G164.5 MiB [] 44% 4.2s\u001b[0K\u001b[1G164.5 MiB [] 45% 4.2s\u001b[0K\u001b[1G164.5 MiB [] 45% 4.1s\u001b[0K\u001b[1G164.5 MiB [] 46% 4.1s\u001b[0K\u001b[1G164.5 MiB [] 46% 4.0s\u001b[0K\u001b[1G164.5 MiB [] 47% 4.0s\u001b[0K\u001b[1G164.5 MiB [] 47% 3.9s\u001b[0K\u001b[1G164.5 MiB [] 48% 3.9s\u001b[0K\u001b[1G164.5 MiB [] 49% 3.8s\u001b[0K\u001b[1G164.5 MiB [] 50% 3.7s\u001b[0K\u001b[1G164.5 MiB [] 50% 3.6s\u001b[0K\u001b[1G164.5 MiB [] 51% 3.6s\u001b[0K\u001b[1G164.5 MiB [] 51% 3.5s\u001b[0K\u001b[1G164.5 MiB [] 52% 3.5s\u001b[0K\u001b[1G164.5 MiB [] 53% 3.4s\u001b[0K\u001b[1G164.5 MiB [] 54% 3.4s\u001b[0K\u001b[1G164.5 MiB [] 54% 3.3s\u001b[0K\u001b[1G164.5 MiB [] 55% 3.3s\u001b[0K\u001b[1G164.5 MiB [] 55% 3.2s\u001b[0K\u001b[1G164.5 MiB [] 56% 3.2s\u001b[0K\u001b[1G164.5 MiB [] 56% 3.1s\u001b[0K\u001b[1G164.5 MiB [] 57% 3.1s\u001b[0K\u001b[1G164.5 MiB [] 57% 3.0s\u001b[0K\u001b[1G164.5 MiB [] 58% 3.0s\u001b[0K\u001b[1G164.5 MiB [] 58% 2.9s\u001b[0K\u001b[1G164.5 MiB [] 59% 2.9s\u001b[0K\u001b[1G164.5 MiB [] 59% 2.8s\u001b[0K\u001b[1G164.5 MiB [] 60% 2.8s\u001b[0K\u001b[1G164.5 MiB [] 61% 2.7s\u001b[0K\u001b[1G164.5 MiB [] 62% 2.6s\u001b[0K\u001b[1G164.5 MiB [] 63% 2.5s\u001b[0K\u001b[1G164.5 MiB [] 64% 2.5s\u001b[0K\u001b[1G164.5 MiB [] 64% 2.4s\u001b[0K\u001b[1G164.5 MiB [] 65% 2.4s\u001b[0K\u001b[1G164.5 MiB [] 65% 2.3s\u001b[0K\u001b[1G164.5 MiB [] 66% 2.3s\u001b[0K\u001b[1G164.5 MiB [] 67% 2.2s\u001b[0K\u001b[1G164.5 MiB [] 68% 2.2s\u001b[0K\u001b[1G164.5 MiB [] 68% 2.1s\u001b[0K\u001b[1G164.5 MiB [] 69% 2.1s\u001b[0K\u001b[1G164.5 MiB [] 69% 2.0s\u001b[0K\u001b[1G164.5 MiB [] 70% 2.0s\u001b[0K\u001b[1G164.5 MiB [] 70% 1.9s\u001b[0K\u001b[1G164.5 MiB [] 71% 1.9s\u001b[0K\u001b[1G164.5 MiB [] 72% 1.9s\u001b[0K\u001b[1G164.5 MiB [] 72% 1.8s\u001b[0K\u001b[1G164.5 MiB [] 73% 1.8s\u001b[0K\u001b[1G164.5 MiB [] 73% 1.7s\u001b[0K\u001b[1G164.5 MiB [] 74% 1.7s\u001b[0K\u001b[1G164.5 MiB [] 75% 1.6s\u001b[0K\u001b[1G164.5 MiB [] 76% 1.6s\u001b[0K\u001b[1G164.5 MiB [] 76% 1.5s\u001b[0K\u001b[1G164.5 MiB [] 77% 1.5s\u001b[0K\u001b[1G164.5 MiB [] 77% 1.4s\u001b[0K\u001b[1G164.5 MiB [] 78% 1.4s\u001b[0K\u001b[1G164.5 MiB [] 79% 1.3s\u001b[0K\u001b[1G164.5 MiB [] 80% 1.3s\u001b[0K\u001b[1G164.5 MiB [] 80% 1.2s\u001b[0K\u001b[1G164.5 MiB [] 81% 1.2s\u001b[0K\u001b[1G164.5 MiB [] 81% 1.1s\u001b[0K\u001b[1G164.5 MiB [] 82% 1.1s\u001b[0K\u001b[1G164.5 MiB [] 83% 1.1s\u001b[0K\u001b[1G164.5 MiB [] 83% 1.0s\u001b[0K\u001b[1G164.5 MiB [] 84% 1.0s\u001b[0K\u001b[1G164.5 MiB [] 85% 0.9s\u001b[0K\u001b[1G164.5 MiB [] 86% 0.9s\u001b[0K\u001b[1G164.5 MiB [] 86% 0.8s\u001b[0K\u001b[1G164.5 MiB [] 87% 0.8s\u001b[0K\u001b[1G164.5 MiB [] 88% 0.7s\u001b[0K\u001b[1G164.5 MiB [] 89% 0.7s\u001b[0K\u001b[1G164.5 MiB [] 89% 0.6s\u001b[0K\u001b[1G164.5 MiB [] 90% 0.6s\u001b[0K\u001b[1G164.5 MiB [] 91% 0.5s\u001b[0K\u001b[1G164.5 MiB [] 92% 0.5s\u001b[0K\u001b[1G164.5 MiB [] 93% 0.4s\u001b[0K\u001b[1G164.5 MiB [] 94% 0.3s\u001b[0K\u001b[1G164.5 MiB [] 95% 0.3s\u001b[0K\u001b[1G164.5 MiB [] 96% 0.2s\u001b[0K\u001b[1G164.5 MiB [] 97% 0.2s\u001b[0K\u001b[1G164.5 MiB [] 97% 0.1s\u001b[0K\u001b[1G164.5 MiB [] 98% 0.1s\u001b[0K\u001b[1G164.5 MiB [] 99% 0.0s\u001b[0K\u001b[1G164.5 MiB [] 100% 0.0s\u001b[0K\n",
            "Chromium 130.0.6723.31 (playwright build v1140) downloaded to /root/.cache/ms-playwright/chromium-1140\n",
            "Downloading FFMPEG playwright build v1010\u001b[2m from https://playwright.azureedge.net/builds/ffmpeg/1010/ffmpeg-linux.zip\u001b[22m\n",
            "\u001b[1G2.3 MiB [] 0% 0.0s\u001b[0K\u001b[1G2.3 MiB [] 3% 0.5s\u001b[0K\u001b[1G2.3 MiB [] 8% 0.3s\u001b[0K\u001b[1G2.3 MiB [] 22% 0.2s\u001b[0K\u001b[1G2.3 MiB [] 35% 0.1s\u001b[0K\u001b[1G2.3 MiB [] 52% 0.1s\u001b[0K\u001b[1G2.3 MiB [] 67% 0.0s\u001b[0K\u001b[1G2.3 MiB [] 90% 0.0s\u001b[0K\u001b[1G2.3 MiB [] 100% 0.0s\u001b[0K\n",
            "FFMPEG playwright build v1010 downloaded to /root/.cache/ms-playwright/ffmpeg-1010\n",
            "Downloading Firefox 131.0 (playwright build v1465)\u001b[2m from https://playwright.azureedge.net/builds/firefox/1465/firefox-ubuntu-22.04.zip\u001b[22m\n",
            "\u001b[1G86.7 MiB [] 0% 0.0s\u001b[0K\u001b[1G86.7 MiB [] 0% 25.7s\u001b[0K\u001b[1G86.7 MiB [] 0% 18.0s\u001b[0K\u001b[1G86.7 MiB [] 0% 10.1s\u001b[0K\u001b[1G86.7 MiB [] 0% 7.1s\u001b[0K\u001b[1G86.7 MiB [] 1% 4.7s\u001b[0K\u001b[1G86.7 MiB [] 2% 3.5s\u001b[0K\u001b[1G86.7 MiB [] 3% 3.0s\u001b[0K\u001b[1G86.7 MiB [] 4% 2.7s\u001b[0K\u001b[1G86.7 MiB [] 5% 2.6s\u001b[0K\u001b[1G86.7 MiB [] 6% 2.4s\u001b[0K\u001b[1G86.7 MiB [] 6% 2.5s\u001b[0K\u001b[1G86.7 MiB [] 7% 2.4s\u001b[0K\u001b[1G86.7 MiB [] 8% 2.5s\u001b[0K\u001b[1G86.7 MiB [] 8% 2.4s\u001b[0K\u001b[1G86.7 MiB [] 9% 2.3s\u001b[0K\u001b[1G86.7 MiB [] 10% 2.2s\u001b[0K\u001b[1G86.7 MiB [] 12% 2.1s\u001b[0K\u001b[1G86.7 MiB [] 12% 2.0s\u001b[0K\u001b[1G86.7 MiB [] 13% 1.9s\u001b[0K\u001b[1G86.7 MiB [] 15% 1.8s\u001b[0K\u001b[1G86.7 MiB [] 16% 1.7s\u001b[0K\u001b[1G86.7 MiB [] 17% 1.8s\u001b[0K\u001b[1G86.7 MiB [] 19% 1.6s\u001b[0K\u001b[1G86.7 MiB [] 21% 1.6s\u001b[0K\u001b[1G86.7 MiB [] 22% 1.5s\u001b[0K\u001b[1G86.7 MiB [] 23% 1.5s\u001b[0K\u001b[1G86.7 MiB [] 24% 1.5s\u001b[0K\u001b[1G86.7 MiB [] 25% 1.4s\u001b[0K\u001b[1G86.7 MiB [] 26% 1.4s\u001b[0K\u001b[1G86.7 MiB [] 28% 1.3s\u001b[0K\u001b[1G86.7 MiB [] 29% 1.3s\u001b[0K\u001b[1G86.7 MiB [] 30% 1.3s\u001b[0K\u001b[1G86.7 MiB [] 32% 1.2s\u001b[0K\u001b[1G86.7 MiB [] 32% 1.4s\u001b[0K\u001b[1G86.7 MiB [] 32% 1.6s\u001b[0K\u001b[1G86.7 MiB [] 33% 1.6s\u001b[0K\u001b[1G86.7 MiB [] 34% 1.6s\u001b[0K\u001b[1G86.7 MiB [] 35% 1.6s\u001b[0K\u001b[1G86.7 MiB [] 36% 1.6s\u001b[0K\u001b[1G86.7 MiB [] 36% 1.9s\u001b[0K\u001b[1G86.7 MiB [] 36% 2.0s\u001b[0K\u001b[1G86.7 MiB [] 37% 2.0s\u001b[0K\u001b[1G86.7 MiB [] 38% 1.9s\u001b[0K\u001b[1G86.7 MiB [] 40% 1.8s\u001b[0K\u001b[1G86.7 MiB [] 41% 1.7s\u001b[0K\u001b[1G86.7 MiB [] 42% 1.6s\u001b[0K\u001b[1G86.7 MiB [] 44% 1.6s\u001b[0K\u001b[1G86.7 MiB [] 45% 1.5s\u001b[0K\u001b[1G86.7 MiB [] 46% 1.5s\u001b[0K\u001b[1G86.7 MiB [] 48% 1.4s\u001b[0K\u001b[1G86.7 MiB [] 49% 1.3s\u001b[0K\u001b[1G86.7 MiB [] 51% 1.3s\u001b[0K\u001b[1G86.7 MiB [] 52% 1.2s\u001b[0K\u001b[1G86.7 MiB [] 54% 1.2s\u001b[0K\u001b[1G86.7 MiB [] 55% 1.1s\u001b[0K\u001b[1G86.7 MiB [] 57% 1.0s\u001b[0K\u001b[1G86.7 MiB [] 58% 1.0s\u001b[0K\u001b[1G86.7 MiB [] 60% 0.9s\u001b[0K\u001b[1G86.7 MiB [] 62% 0.9s\u001b[0K\u001b[1G86.7 MiB [] 63% 0.8s\u001b[0K\u001b[1G86.7 MiB [] 65% 0.8s\u001b[0K\u001b[1G86.7 MiB [] 67% 0.7s\u001b[0K\u001b[1G86.7 MiB [] 69% 0.7s\u001b[0K\u001b[1G86.7 MiB [] 71% 0.6s\u001b[0K\u001b[1G86.7 MiB [] 72% 0.6s\u001b[0K\u001b[1G86.7 MiB [] 74% 0.5s\u001b[0K\u001b[1G86.7 MiB [] 76% 0.5s\u001b[0K\u001b[1G86.7 MiB [] 78% 0.4s\u001b[0K\u001b[1G86.7 MiB [] 79% 0.4s\u001b[0K\u001b[1G86.7 MiB [] 80% 0.4s\u001b[0K\u001b[1G86.7 MiB [] 81% 0.4s\u001b[0K\u001b[1G86.7 MiB [] 82% 0.3s\u001b[0K\u001b[1G86.7 MiB [] 83% 0.3s\u001b[0K\u001b[1G86.7 MiB [] 84% 0.3s\u001b[0K\u001b[1G86.7 MiB [] 86% 0.3s\u001b[0K\u001b[1G86.7 MiB [] 87% 0.3s\u001b[0K\u001b[1G86.7 MiB [] 89% 0.2s\u001b[0K\u001b[1G86.7 MiB [] 90% 0.2s\u001b[0K\u001b[1G86.7 MiB [] 91% 0.2s\u001b[0K\u001b[1G86.7 MiB [] 93% 0.1s\u001b[0K\u001b[1G86.7 MiB [] 94% 0.1s\u001b[0K\u001b[1G86.7 MiB [] 95% 0.1s\u001b[0K\u001b[1G86.7 MiB [] 97% 0.1s\u001b[0K\u001b[1G86.7 MiB [] 99% 0.0s\u001b[0K\u001b[1G86.7 MiB [] 100% 0.0s\u001b[0K\n",
            "Firefox 131.0 (playwright build v1465) downloaded to /root/.cache/ms-playwright/firefox-1465\n",
            "Downloading Webkit 18.0 (playwright build v2083)\u001b[2m from https://playwright.azureedge.net/builds/webkit/2083/webkit-ubuntu-22.04.zip\u001b[22m\n",
            "\u001b[1G90.5 MiB [] 0% 0.0s\u001b[0K\u001b[1G90.5 MiB [] 0% 23.3s\u001b[0K\u001b[1G90.5 MiB [] 0% 13.0s\u001b[0K\u001b[1G90.5 MiB [] 0% 6.2s\u001b[0K\u001b[1G90.5 MiB [] 1% 4.0s\u001b[0K\u001b[1G90.5 MiB [] 2% 3.3s\u001b[0K\u001b[1G90.5 MiB [] 3% 2.8s\u001b[0K\u001b[1G90.5 MiB [] 4% 2.5s\u001b[0K\u001b[1G90.5 MiB [] 5% 2.4s\u001b[0K\u001b[1G90.5 MiB [] 6% 2.2s\u001b[0K\u001b[1G90.5 MiB [] 6% 2.3s\u001b[0K\u001b[1G90.5 MiB [] 7% 2.2s\u001b[0K\u001b[1G90.5 MiB [] 8% 2.0s\u001b[0K\u001b[1G90.5 MiB [] 10% 1.9s\u001b[0K\u001b[1G90.5 MiB [] 11% 1.7s\u001b[0K\u001b[1G90.5 MiB [] 12% 1.7s\u001b[0K\u001b[1G90.5 MiB [] 13% 1.6s\u001b[0K\u001b[1G90.5 MiB [] 15% 1.5s\u001b[0K\u001b[1G90.5 MiB [] 16% 1.5s\u001b[0K\u001b[1G90.5 MiB [] 18% 1.4s\u001b[0K\u001b[1G90.5 MiB [] 19% 1.4s\u001b[0K\u001b[1G90.5 MiB [] 20% 1.3s\u001b[0K\u001b[1G90.5 MiB [] 21% 1.3s\u001b[0K\u001b[1G90.5 MiB [] 22% 1.3s\u001b[0K\u001b[1G90.5 MiB [] 23% 1.3s\u001b[0K\u001b[1G90.5 MiB [] 24% 1.3s\u001b[0K\u001b[1G90.5 MiB [] 25% 1.3s\u001b[0K\u001b[1G90.5 MiB [] 26% 1.2s\u001b[0K\u001b[1G90.5 MiB [] 28% 1.2s\u001b[0K\u001b[1G90.5 MiB [] 29% 1.2s\u001b[0K\u001b[1G90.5 MiB [] 30% 1.1s\u001b[0K\u001b[1G90.5 MiB [] 31% 1.1s\u001b[0K\u001b[1G90.5 MiB [] 32% 1.1s\u001b[0K\u001b[1G90.5 MiB [] 34% 1.0s\u001b[0K\u001b[1G90.5 MiB [] 35% 1.0s\u001b[0K\u001b[1G90.5 MiB [] 36% 1.0s\u001b[0K\u001b[1G90.5 MiB [] 37% 1.0s\u001b[0K\u001b[1G90.5 MiB [] 38% 0.9s\u001b[0K\u001b[1G90.5 MiB [] 40% 0.9s\u001b[0K\u001b[1G90.5 MiB [] 41% 0.9s\u001b[0K\u001b[1G90.5 MiB [] 42% 0.9s\u001b[0K\u001b[1G90.5 MiB [] 44% 0.8s\u001b[0K\u001b[1G90.5 MiB [] 45% 0.8s\u001b[0K\u001b[1G90.5 MiB [] 46% 0.8s\u001b[0K\u001b[1G90.5 MiB [] 47% 0.8s\u001b[0K\u001b[1G90.5 MiB [] 48% 0.8s\u001b[0K\u001b[1G90.5 MiB [] 50% 0.7s\u001b[0K\u001b[1G90.5 MiB [] 51% 0.7s\u001b[0K\u001b[1G90.5 MiB [] 52% 0.7s\u001b[0K\u001b[1G90.5 MiB [] 53% 0.7s\u001b[0K\u001b[1G90.5 MiB [] 55% 0.7s\u001b[0K\u001b[1G90.5 MiB [] 56% 0.6s\u001b[0K\u001b[1G90.5 MiB [] 57% 0.6s\u001b[0K\u001b[1G90.5 MiB [] 58% 0.6s\u001b[0K\u001b[1G90.5 MiB [] 60% 0.6s\u001b[0K\u001b[1G90.5 MiB [] 61% 0.6s\u001b[0K\u001b[1G90.5 MiB [] 62% 0.5s\u001b[0K\u001b[1G90.5 MiB [] 64% 0.5s\u001b[0K\u001b[1G90.5 MiB [] 65% 0.5s\u001b[0K\u001b[1G90.5 MiB [] 66% 0.5s\u001b[0K\u001b[1G90.5 MiB [] 68% 0.5s\u001b[0K\u001b[1G90.5 MiB [] 69% 0.4s\u001b[0K\u001b[1G90.5 MiB [] 70% 0.4s\u001b[0K\u001b[1G90.5 MiB [] 71% 0.4s\u001b[0K\u001b[1G90.5 MiB [] 72% 0.4s\u001b[0K\u001b[1G90.5 MiB [] 74% 0.4s\u001b[0K\u001b[1G90.5 MiB [] 75% 0.4s\u001b[0K\u001b[1G90.5 MiB [] 76% 0.4s\u001b[0K\u001b[1G90.5 MiB [] 78% 0.3s\u001b[0K\u001b[1G90.5 MiB [] 79% 0.3s\u001b[0K\u001b[1G90.5 MiB [] 80% 0.3s\u001b[0K\u001b[1G90.5 MiB [] 82% 0.3s\u001b[0K\u001b[1G90.5 MiB [] 83% 0.3s\u001b[0K\u001b[1G90.5 MiB [] 84% 0.2s\u001b[0K\u001b[1G90.5 MiB [] 85% 0.2s\u001b[0K\u001b[1G90.5 MiB [] 87% 0.2s\u001b[0K\u001b[1G90.5 MiB [] 88% 0.2s\u001b[0K\u001b[1G90.5 MiB [] 90% 0.1s\u001b[0K\u001b[1G90.5 MiB [] 91% 0.1s\u001b[0K\u001b[1G90.5 MiB [] 92% 0.1s\u001b[0K\u001b[1G90.5 MiB [] 94% 0.1s\u001b[0K\u001b[1G90.5 MiB [] 95% 0.1s\u001b[0K\u001b[1G90.5 MiB [] 96% 0.0s\u001b[0K\u001b[1G90.5 MiB [] 97% 0.0s\u001b[0K\u001b[1G90.5 MiB [] 98% 0.0s\u001b[0K\u001b[1G90.5 MiB [] 99% 0.0s\u001b[0K\u001b[1G90.5 MiB [] 100% 0.0s\u001b[0K\n",
            "Webkit 18.0 (playwright build v2083) downloaded to /root/.cache/ms-playwright/webkit-2083\n",
            "Playwright Host validation warning: \n",
            "╔══════════════════════════════════════════════════════╗\n",
            "║ Host system is missing dependencies to run browsers. ║\n",
            "║ Missing libraries:                                   ║\n",
            "║     libwoff2dec.so.1.0.2                             ║\n",
            "║     libgstgl-1.0.so.0                                ║\n",
            "║     libgstcodecparsers-1.0.so.0                      ║\n",
            "║     libharfbuzz-icu.so.0                             ║\n",
            "║     libenchant-2.so.2                                ║\n",
            "║     libsecret-1.so.0                                 ║\n",
            "║     libhyphen.so.0                                   ║\n",
            "║     libmanette-0.2.so.0                              ║\n",
            "╚══════════════════════════════════════════════════════╝\n",
            "    at validateDependenciesLinux (/usr/local/lib/python3.10/dist-packages/playwright/driver/package/lib/server/registry/dependencies.js:216:9)\n",
            "\u001b[90m    at process.processTicksAndRejections (node:internal/process/task_queues:95:5)\u001b[39m\n",
            "    at async Registry._validateHostRequirements (/usr/local/lib/python3.10/dist-packages/playwright/driver/package/lib/server/registry/index.js:707:43)\n",
            "    at async Registry._validateHostRequirementsForExecutableIfNeeded (/usr/local/lib/python3.10/dist-packages/playwright/driver/package/lib/server/registry/index.js:805:7)\n",
            "    at async Registry.validateHostRequirementsForExecutablesIfNeeded (/usr/local/lib/python3.10/dist-packages/playwright/driver/package/lib/server/registry/index.js:794:43)\n",
            "    at async t.<anonymous> (/usr/local/lib/python3.10/dist-packages/playwright/driver/package/lib/cli/program.js:119:7)\n"
          ]
        }
      ]
    },
    {
      "cell_type": "code",
      "source": [
        "# Read search page and save to file\n",
        "\n",
        "from playwright.async_api import Page\n",
        "\n",
        "async def fetch_dynamic_content(url, browser):\n",
        "    # Output \"0\" to console\n",
        "    # print(0)\n",
        "\n",
        "    # Create a new page within the existing browser context\n",
        "    page = await browser.new_page()\n",
        "    await page.goto(url)\n",
        "\n",
        "    # Output \"1\" to console\n",
        "    # print(1)\n",
        "\n",
        "    # Wait for the dynamic content to load\n",
        "    # await page.wait_for_selector('.result-item-text') # maybe find a better benchmark for page load?\n",
        "    await page.wait_for_load_state('networkidle')\n",
        "\n",
        "    # Output \"2\" to console\n",
        "    # print(2)\n",
        "\n",
        "    # Extract page content after rendering\n",
        "    page_content = await page.content()\n",
        "\n",
        "    # Write page content to \"search_results.txt\"\n",
        "    with open(\"search_results.txt\", \"w\") as f:\n",
        "        f.write(page_content)\n",
        "\n",
        "    # Close the page (but not the browser)\n",
        "    await page.close()\n",
        "\n",
        "    # Return the page content as a result\n",
        "    return page_content"
      ],
      "metadata": {
        "id": "LpZvRnI_7dwZ"
      },
      "execution_count": null,
      "outputs": []
    },
    {
      "cell_type": "code",
      "source": [
        "# Process search results; output all article links\n",
        "\n",
        "def get_article_links(html_content):\n",
        "    soup = BeautifulSoup(html_content, \"html.parser\")\n",
        "\n",
        "    # Extract href values and store them in an array\n",
        "    href_values = [a['href'] for a in soup.select(\"h3.item-title > a\") if 'href' in a.attrs]\n",
        "\n",
        "    # `href_values` now contains all the href attributes as an array\n",
        "    return href_values\n",
        "\n",
        "# Load the content of `search_results.txt` into BeautifulSoup\n",
        "# with open(\"search_results.txt\", \"r\") as f:\n",
        "#     html_content = f.read()\n",
        "\n",
        "# href_values2 = get_article_links(html_content)\n",
        "\n",
        "# # Print the array to the console with each entry on its own line\n",
        "# for href in href_values2:\n",
        "#     print(href)"
      ],
      "metadata": {
        "id": "KAiiGLBg3uGb"
      },
      "execution_count": null,
      "outputs": []
    },
    {
      "cell_type": "code",
      "source": [
        "def find_dates_in_text(text):\n",
        "    # If the text doesn't exist, return\n",
        "    if not text:\n",
        "        return []\n",
        "    # Find all sequences of exactly 4 digits\n",
        "    four_digit_numbers = re.findall(r'\\d{4}', text)\n",
        "    # Filter numbers within the range 1801 to 2025 and remove duplicates by converting to a set\n",
        "    dates = {int(num) for num in four_digit_numbers if 1801 <= int(num) <= 2025}\n",
        "    # Sort the unique dates in descending order\n",
        "    return sorted(dates, reverse=True)"
      ],
      "metadata": {
        "id": "HqPJjTj9rYup"
      },
      "execution_count": null,
      "outputs": []
    },
    {
      "cell_type": "code",
      "source": [
        "# Process array of strings to remove duplicates and filter out unwanted values.\n",
        "def filter_and_deduplicate_strings(strings):\n",
        "    if not strings:\n",
        "        return []\n",
        "    unwanted_values = {'more', 'hide', 'Show All', 'Show Less', ''}\n",
        "    # Remove duplicates, strip whitespace, and filter out unwanted values\n",
        "    unique_strings = list({string.strip() for string in strings})\n",
        "    filtered_strings = [text for text in unique_strings if text not in unwanted_values]\n",
        "    return filtered_strings"
      ],
      "metadata": {
        "id": "XZYBGDNM1afn"
      },
      "execution_count": null,
      "outputs": []
    },
    {
      "cell_type": "code",
      "source": [
        "def read_details_segment(soup, segment_name):\n",
        "    # Parse the HTML content with BeautifulSoup\n",
        "    # soup = BeautifulSoup(content, 'html.parser')\n",
        "\n",
        "    # Step 1: Find the span with the attribute data-details-label=\"title\"\n",
        "    title_span = soup.find('span', {'data-details-label': segment_name})\n",
        "\n",
        "    if not title_span:\n",
        "        print(\"No span with data-details-label='\" + segment_name +\"' found\")\n",
        "        return\n",
        "\n",
        "    # Step 2: Find the div that is the parent of this span\n",
        "    parent_div = title_span.find_parent('div')\n",
        "\n",
        "    if not parent_div:\n",
        "        print(\"No parent div found for the \" + segment_name +\" span\")\n",
        "        return\n",
        "\n",
        "    # Step 3: Find the div that is the next sibling of the parent div\n",
        "    next_div = parent_div.find_next_sibling('div')\n",
        "\n",
        "    if not next_div:\n",
        "        print(\"No next sibling div found for the parent div (\" + segment_name + \")\")\n",
        "        return\n",
        "\n",
        "    # Step 4: In this next div, find the span and get its contents\n",
        "    target_span = next_div.find_all('span')\n",
        "\n",
        "    # Step 5: Output the contents of the target span\n",
        "    if not target_span:\n",
        "        print(\"No spans found in the next div for \" + segment_name)\n",
        "        return []\n",
        "    return [span.get_text() for span in target_span]\n",
        "\n",
        "def read_details(content):\n",
        "    # Parse the HTML content with BeautifulSoup\n",
        "    soup = BeautifulSoup(content, 'html.parser')\n",
        "\n",
        "    # Usage example with content\n",
        "    title = read_details_segment(soup, 'title')\n",
        "    # print(title[0])\n",
        "\n",
        "    creator = filter_and_deduplicate_strings(read_details_segment(soup, 'creator'))\n",
        "    # print(creator)\n",
        "\n",
        "    ispartof = read_details_segment(soup, 'ispartof')\n",
        "    # print(ispartof[0])\n",
        "\n",
        "    publisher = read_details_segment(soup, 'publisher')\n",
        "    # print(publisher[0])\n",
        "\n",
        "    subject = filter_and_deduplicate_strings(read_details_segment(soup, 'subject'))\n",
        "    # print(subject)\n",
        "\n",
        "    description = read_details_segment(soup, 'description')\n",
        "    # print(description[0])\n",
        "\n",
        "    identifier = filter_and_deduplicate_strings(read_details_segment(soup, 'identifier'))\n",
        "    # print(identifier)\n",
        "\n",
        "    dates = find_dates_in_text(ispartof[0])\n",
        "\n",
        "    # Construct JSON string with title, creator, etc.\n",
        "\n",
        "    # Define your data as a dictionary\n",
        "    json_data = {\n",
        "        \"title\": title[0] if title else \"\",\n",
        "        \"creator\": creator,\n",
        "        \"dates\": dates,\n",
        "        \"ispartof\": ispartof[0] if ispartof else \"\",\n",
        "        \"publisher\": publisher[0] if publisher else \"\",\n",
        "        \"subject\": subject,\n",
        "        \"description\": description[0] if description else \"\",\n",
        "        \"identifier\": identifier\n",
        "    }\n",
        "\n",
        "    # Convert the dictionary to a JSON string if needed\n",
        "    json_string = json.dumps(json_data, ensure_ascii=False)\n",
        "\n",
        "    print(json_string)\n",
        "\n",
        "    # Append the JSON string to a text file\n",
        "    with open(\"bibliometrics.txt\", \"a\", encoding=\"utf-8\") as file:\n",
        "        file.write(json_string + \"\\n\")  # Add newline for each JSON entry"
      ],
      "metadata": {
        "id": "kc63GVkcBEX2"
      },
      "execution_count": null,
      "outputs": []
    },
    {
      "cell_type": "markdown",
      "source": [
        "# Main ♟"
      ],
      "metadata": {
        "id": "EdJSqyHFSiAA"
      }
    },
    {
      "cell_type": "code",
      "source": [
        "async def main():\n",
        "    async with async_playwright() as p:\n",
        "        # Launch the browser once\n",
        "        browser = await p.chromium.launch(headless=True)\n",
        "\n",
        "        # Prompt user to input URL (OMNI Search)\n",
        "        base_url = \"https://ocul-crl.primo.exlibrisgroup.com/discovery/search?q=bombus+terrestris&vid=01OCUL_CRL%3ACRL_DEFAULT&tab=OCULDiscoveryNetworkNew&search_scope=NewDiscoveryNetwork&mode=basic&displayMode=full&bulkSize=10&highlight=true&dum=true&query=any%2Ccontains%2Cbombus+terrestris&displayField=all&offset=0\"\n",
        "\n",
        "        # Truncate end of base_url after last \"=\"\n",
        "        truncate_position = base_url.rfind(\"=\") + 1\n",
        "        base_url = base_url[:truncate_position]\n",
        "\n",
        "        # Prompt user to input first page number\n",
        "        first_page = int(input(\"Enter first page number: \"))\n",
        "\n",
        "        # Prompt user to input last page number\n",
        "        last_page = int(input(\"Enter last page number (incl.): \"))\n",
        "\n",
        "        # For each search result page\n",
        "        for page in range(first_page -1, last_page):\n",
        "            url = f\"{base_url}{page*10}\"\n",
        "            print(\"Page \", page + 1)\n",
        "\n",
        "            # Parse search results\n",
        "            search_results = await fetch_dynamic_content(url, browser)\n",
        "\n",
        "            # Parse HTML\n",
        "            links = get_article_links(search_results)\n",
        "\n",
        "            # For each article\n",
        "            for link in links:\n",
        "                print(link)\n",
        "                content = await fetch_dynamic_content(link, browser)\n",
        "                read_details(content)\n",
        "\n",
        "        # # Fetch content from multiple URLs\n",
        "        # content1 = await fetch_dynamic_content(\"https://ocul-crl.primo.exlibrisgroup.com/discovery/fulldisplay?docid=cdi_proquest_journals_2938293070&context=PC&vid=01OCUL_CRL:CRL_DEFAULT&lang=en&search_scope=NewDiscoveryNetwork&adaptor=Primo\", browser)\n",
        "        # content2 = await fetch_dynamic_content(\"https://ocul-crl.primo.exlibrisgroup.com/discovery/fulldisplay?docid=cdi_proquest_journals_2913337499&context=PC&vid=01OCUL_CRL:CRL_DEFAULT&lang=en&search_scope=NewDiscoveryNetwork&adaptor=Primo\", browser)\n",
        "\n",
        "        # # save content1 to file\n",
        "        # with open(\"content1.txt\", \"w\") as f:\n",
        "        #     f.write(content1)\n",
        "\n",
        "        # # save content2 to file\n",
        "        # with open(\"content2.txt\", \"w\") as f:\n",
        "        #     f.write(content2)\n",
        "\n",
        "        # Close the browser after all calls\n",
        "        await browser.close()\n",
        "\n",
        "# run main function\n",
        "await main()"
      ],
      "metadata": {
        "colab": {
          "base_uri": "https://localhost:8080/"
        },
        "id": "fGQvNAcK8dXW",
        "outputId": "71b9b331-398e-444a-9897-8d8ece9f738d"
      },
      "execution_count": null,
      "outputs": [
        {
          "output_type": "stream",
          "name": "stdout",
          "text": [
            "Enter first page number: 28\n",
            "Enter last page number (incl.): 32\n",
            "Page  28\n",
            "Page  29\n",
            "Page  30\n",
            "Page  31\n",
            "Page  32\n"
          ]
        }
      ]
    },
    {
      "cell_type": "code",
      "source": [
        "url = \"https://ocul-crl.primo.exlibrisgroup.com/discovery/search?query=any,contains,bombus%20terrestris&tab=OCULDiscoveryNetworkNew&search_scope=NewDiscoveryNetwork&vid=01OCUL_CRL:CRL_DEFAULT&mfacet=rtype,include,articles,1&mode=basic&offset=0\"\n",
        "\n"
      ],
      "metadata": {
        "colab": {
          "base_uri": "https://localhost:8080/"
        },
        "id": "sj08wjwhU5kG",
        "outputId": "03a3febd-c7d9-4d27-a26e-cd57c2f8ad7a"
      },
      "execution_count": null,
      "outputs": [
        {
          "output_type": "stream",
          "name": "stdout",
          "text": [
            "https://ocul-crl.primo.exlibrisgroup.com/discovery/search?query=any,contains,bombus%20terrestris&tab=OCULDiscoveryNetworkNew&search_scope=NewDiscoveryNetwork&vid=01OCUL_CRL:CRL_DEFAULT&mfacet=rtype,include,articles,1&mode=basic&offset=\n"
          ]
        }
      ]
    }
  ]
}